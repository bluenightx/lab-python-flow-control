{
 "cells": [
  {
   "cell_type": "markdown",
   "id": "d3bfc191-8885-42ee-b0a0-bbab867c6f9f",
   "metadata": {
    "tags": []
   },
   "source": [
    "# Lab | Flow Control"
   ]
  },
  {
   "cell_type": "markdown",
   "id": "3851fcd1-cf98-4653-9c89-e003b7ec9400",
   "metadata": {},
   "source": [
    "## Exercise: Managing Customer Orders Optimized\n",
    "\n",
    "In the last lab, you were starting an online store that sells various products. To ensure smooth operations, you developed a program that manages customer orders and inventory.\n",
    "\n",
    "You did so without using flow control. Let's go a step further and improve this code.\n",
    "\n",
    "Follow the steps below to complete the exercise:\n",
    "\n",
    "1. Look at your code from the lab data structures, and improve repeated code with loops.\n",
    "\n",
    "2. Instead of asking the user to input the name of three products that a customer wants to order, do the following:\n",
    "    \n",
    "    a. Prompt the user to enter the name of a product that a customer wants to order.\n",
    "    \n",
    "    b. Add the product name to the \"customer_orders\" set.\n",
    "    \n",
    "    c. Ask the user if they want to add another product (yes/no).\n",
    "    \n",
    "    d. Continue the loop until the user does not want to add another product.\n",
    "\n",
    "3. Instead of updating the inventory by subtracting 1 from the quantity of each product, only do it for  the products that were ordered (those in \"customer_orders\")."
   ]
  },
  {
   "cell_type": "code",
   "execution_count": 78,
   "id": "42a9d0ce-e84a-4b06-8a55-574ea3224a91",
   "metadata": {},
   "outputs": [],
   "source": [
    "products = [\"t-shirt\", \"mug\", \"hat\", \"book\", \"keychain\"] #Define a list"
   ]
  },
  {
   "cell_type": "code",
   "execution_count": 80,
   "id": "1ef61d5a-fbb2-4479-8597-57173f4a9650",
   "metadata": {},
   "outputs": [],
   "source": [
    "inventory = {} #create a empty inventory"
   ]
  },
  {
   "cell_type": "code",
   "execution_count": 82,
   "id": "a4a5a35a-cca3-486c-8914-fbd6bb78b743",
   "metadata": {},
   "outputs": [
    {
     "name": "stdin",
     "output_type": "stream",
     "text": [
      "Please insert a quantity of the t-shirt 10\n",
      "Please insert a quantity of the mug 3\n",
      "Please insert a quantity of the hat 4\n",
      "Please insert a quantity of the book 7\n",
      "Please insert a quantity of the keychain 2\n"
     ]
    }
   ],
   "source": [
    "### Ask the user to input the quantity of each product available in the inventory, use the product names from the products list as keys in the inventory dictionary and assign the respective quantities as values.\n",
    "for product in products:\n",
    " inventory_input = int(input(f'Please insert a quantity of the {product}'))\n",
    " inventory[product] = inventory_input\n"
   ]
  },
  {
   "cell_type": "code",
   "execution_count": 84,
   "id": "ae7700c7-2fb1-44cf-8271-feee2fd2623c",
   "metadata": {},
   "outputs": [
    {
     "name": "stdout",
     "output_type": "stream",
     "text": [
      "t-shirt, 10\n",
      "mug, 3\n",
      "hat, 4\n",
      "book, 7\n",
      "keychain, 2\n"
     ]
    }
   ],
   "source": [
    "for product, quantity in inventory.items():\n",
    "    print(f'{product}, {quantity}')"
   ]
  },
  {
   "cell_type": "code",
   "execution_count": 86,
   "id": "5cd8b6ec-4449-4549-bb24-b18890c9017f",
   "metadata": {},
   "outputs": [],
   "source": [
    "customer_orders = set() #create a empty set "
   ]
  },
  {
   "cell_type": "code",
   "execution_count": 88,
   "id": "4621ba10-766e-47c3-9df9-a5546f52058a",
   "metadata": {
    "scrolled": true
   },
   "outputs": [
    {
     "name": "stdin",
     "output_type": "stream",
     "text": [
      "Insert the name of the product book\n",
      " Do you want to add another product (yes/no)? yes\n",
      "Insert the name of the product hat\n",
      " Do you want to add another product (yes/no)? yes\n",
      "Insert the name of the product mug\n",
      " Do you want to add another product (yes/no)? no\n"
     ]
    }
   ],
   "source": [
    "while product in products:\n",
    " order = input(\"Insert the name of the product\").lower()\n",
    " \n",
    " if order in products:\n",
    "  another_order= input(\" Do you want to add another product (yes/no)?\").lower()\n",
    "  customer_orders.add(order)\n",
    "  if another_order == 'no':\n",
    "          break\n",
    "          print(\"Your order is completed. Thank you.\")\n",
    " else: \n",
    "    print(\"Invalid entry. Try again.\")\n",
    "    \n",
    "  "
   ]
  },
  {
   "cell_type": "code",
   "execution_count": 90,
   "id": "5f1e2eec-5686-4b87-8e31-3f02c84dc8ee",
   "metadata": {},
   "outputs": [
    {
     "name": "stdout",
     "output_type": "stream",
     "text": [
      "{'book', 'mug', 'hat'}\n"
     ]
    }
   ],
   "source": [
    "    print(customer_orders)"
   ]
  },
  {
   "cell_type": "code",
   "execution_count": 92,
   "id": "f669a896-92aa-4582-b384-9a813fc227d6",
   "metadata": {
    "scrolled": true
   },
   "outputs": [],
   "source": [
    "for product in customer_orders:\n",
    "    if product in inventory:\n",
    "        inventory[product] -= 1\n",
    "\n",
    "    else:\n",
    "     print(\"New inventory\", inventory)"
   ]
  },
  {
   "cell_type": "code",
   "execution_count": 94,
   "id": "355a8d67-60d2-4cc4-9290-39caa3d99660",
   "metadata": {},
   "outputs": [
    {
     "name": "stdout",
     "output_type": "stream",
     "text": [
      "{'t-shirt': 10, 'mug': 2, 'hat': 3, 'book': 6, 'keychain': 2}\n"
     ]
    }
   ],
   "source": [
    "print(inventory)"
   ]
  },
  {
   "cell_type": "code",
   "execution_count": null,
   "id": "1ebe00e0-d10c-443b-9008-bc1518d5b4b3",
   "metadata": {},
   "outputs": [],
   "source": []
  }
 ],
 "metadata": {
  "kernelspec": {
   "display_name": "Python [conda env:base] *",
   "language": "python",
   "name": "conda-base-py"
  },
  "language_info": {
   "codemirror_mode": {
    "name": "ipython",
    "version": 3
   },
   "file_extension": ".py",
   "mimetype": "text/x-python",
   "name": "python",
   "nbconvert_exporter": "python",
   "pygments_lexer": "ipython3",
   "version": "3.12.7"
  }
 },
 "nbformat": 4,
 "nbformat_minor": 5
}
